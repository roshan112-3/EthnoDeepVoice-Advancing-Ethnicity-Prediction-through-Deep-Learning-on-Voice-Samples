{
  "nbformat": 4,
  "nbformat_minor": 0,
  "metadata": {
    "colab": {
      "provenance": []
    },
    "kernelspec": {
      "name": "python3",
      "display_name": "Python 3"
    },
    "language_info": {
      "name": "python"
    }
  },
  "cells": [
    {
      "cell_type": "code",
      "execution_count": null,
      "metadata": {
        "colab": {
          "base_uri": "https://localhost:8080/"
        },
        "id": "Gr9xNF3TpwYh",
        "outputId": "97f76717-5f7f-4d46-b4d8-345b8382f74c"
      },
      "outputs": [
        {
          "output_type": "stream",
          "name": "stdout",
          "text": [
            "Requirement already satisfied: pygame in /usr/local/lib/python3.10/dist-packages (2.5.2)\n"
          ]
        }
      ],
      "source": [
        "pip install pygame"
      ]
    },
    {
      "cell_type": "code",
      "source": [
        "import numpy as np\n",
        "import pandas as pd\n"
      ],
      "metadata": {
        "id": "M1mgN9oQqlDg"
      },
      "execution_count": null,
      "outputs": []
    },
    {
      "cell_type": "code",
      "source": [
        "df=pd.read_excel('/content/drive/MyDrive/mmd /mmdstorage.xlsx')"
      ],
      "metadata": {
        "id": "Ji2CrG0cuCB2"
      },
      "execution_count": null,
      "outputs": []
    },
    {
      "cell_type": "code",
      "source": [
        "import os\n",
        "\n",
        "folder_path = '/content/drive/MyDrive/mmd /recordings'\n",
        "'''\n",
        "# List of allowed prefixes\n",
        "allowed_prefixes = ['italian', 'polish', 'german', 'turkish', 'dutch', 'portuguese', 'russian', 'korean', 'english', 'arabic', 'spanish', 'mandarin', 'french']\n",
        "\n",
        "# Get a list of files in the folder\n",
        "files_in_folder = os.listdir(folder_path)\n",
        "\n",
        "# Iterate through the files and delete those that do not start with allowed prefixes\n",
        "for file_name in files_in_folder:\n",
        "    file_path = os.path.join(folder_path, file_name)\n",
        "    if not any(file_name.lower().startswith(prefix) for prefix in allowed_prefixes):\n",
        "        os.remove(file_path)\n",
        "        print(f\"Deleted: {file_name}\")\n",
        "'''"
      ],
      "metadata": {
        "colab": {
          "base_uri": "https://localhost:8080/",
          "height": 122
        },
        "id": "-yiEfGhJvNFe",
        "outputId": "9b390d90-0d72-4425-d9a8-0d9429db6eab"
      },
      "execution_count": null,
      "outputs": [
        {
          "output_type": "execute_result",
          "data": {
            "text/plain": [
              "'\\n# List of allowed prefixes\\nallowed_prefixes = [\\'italian\\', \\'polish\\', \\'german\\', \\'turkish\\', \\'dutch\\', \\'portuguese\\', \\'russian\\', \\'korean\\', \\'english\\', \\'arabic\\', \\'spanish\\', \\'mandarin\\', \\'french\\']\\n\\n# Get a list of files in the folder\\nfiles_in_folder = os.listdir(folder_path)\\n\\n# Iterate through the files and delete those that do not start with allowed prefixes\\nfor file_name in files_in_folder:\\n    file_path = os.path.join(folder_path, file_name)\\n    if not any(file_name.lower().startswith(prefix) for prefix in allowed_prefixes):\\n        os.remove(file_path)\\n        print(f\"Deleted: {file_name}\")\\n'"
            ],
            "application/vnd.google.colaboratory.intrinsic+json": {
              "type": "string"
            }
          },
          "metadata": {},
          "execution_count": 3
        }
      ]
    },
    {
      "cell_type": "code",
      "source": [
        "files_in_folder_after = os.listdir('/content/drive/MyDrive/mmd /recordings')\n",
        "print(f\"Number of files after deletion: {len(files_in_folder_after)}\")\n"
      ],
      "metadata": {
        "colab": {
          "base_uri": "https://localhost:8080/"
        },
        "id": "h7rxM_k57YMq",
        "outputId": "acd64331-dc89-4290-e721-24a13f43bda6"
      },
      "execution_count": null,
      "outputs": [
        {
          "output_type": "stream",
          "name": "stdout",
          "text": [
            "Number of files after deletion: 1251\n"
          ]
        }
      ]
    },
    {
      "cell_type": "code",
      "source": [
        "valid_languages=['italian','polish','german','turkish','dutch','portuguese','russian','korean','french','mandarin','english','arabic','spanish']"
      ],
      "metadata": {
        "id": "FaYzzdULuUD4"
      },
      "execution_count": null,
      "outputs": []
    },
    {
      "cell_type": "code",
      "source": [
        "df = df[df['native_language'].isin(valid_languages)]\n"
      ],
      "metadata": {
        "id": "YBcCWR7UE1nk"
      },
      "execution_count": null,
      "outputs": []
    },
    {
      "cell_type": "code",
      "source": [
        "print(df)"
      ],
      "metadata": {
        "colab": {
          "base_uri": "https://localhost:8080/"
        },
        "id": "0pGyHKL6K2Tp",
        "outputId": "d0be35a5-5493-4392-ab6d-004140dc5246"
      },
      "execution_count": null,
      "outputs": [
        {
          "output_type": "stream",
          "name": "stdout",
          "text": [
            "       age     birthplace   filename native_language     sex       country\n",
            "38    38.0   saudi arabia    arabic1          arabic  female  saudi arabia\n",
            "39    26.0          egypt   arabic10          arabic    male         egypt\n",
            "40    40.0        lebanon  arabic100          arabic  female       lebanon\n",
            "41    21.0          qatar  arabic101          arabic    male         qatar\n",
            "42    22.0   saudi arabia  arabic102          arabic    male  saudi arabia\n",
            "...    ...            ...        ...             ...     ...           ...\n",
            "2037  30.0         turkey   turkish5         turkish  female        turkey\n",
            "2038  19.0         turkey   turkish6         turkish    male        turkey\n",
            "2039  19.0         turkey   turkish7         turkish    male        turkey\n",
            "2040  37.0         turkey   turkish8         turkish    male        turkey\n",
            "2041  25.0         turkey   turkish9         turkish    male        turkey\n",
            "\n",
            "[1306 rows x 6 columns]\n"
          ]
        }
      ]
    },
    {
      "cell_type": "code",
      "source": [
        "for i in set(df['native_language']):\n",
        "  print(i,list(df['native_language']).count(i))"
      ],
      "metadata": {
        "colab": {
          "base_uri": "https://localhost:8080/"
        },
        "id": "engr5B7xRJMq",
        "outputId": "3a48c72f-3405-4cf9-bd81-591495f2d4fd"
      },
      "execution_count": null,
      "outputs": [
        {
          "output_type": "stream",
          "name": "stdout",
          "text": [
            "german 36\n",
            "korean 52\n",
            "turkish 37\n",
            "polish 34\n",
            "spanish 162\n",
            "arabic 102\n",
            "french 63\n",
            "english 579\n",
            "mandarin 65\n",
            "portuguese 48\n",
            "italian 33\n",
            "russian 48\n",
            "dutch 47\n"
          ]
        }
      ]
    },
    {
      "cell_type": "code",
      "source": [
        "'''import os\n",
        "import re\n",
        "\n",
        "# Replace '/path/to/your/recordings/folder' with the actual path to your \"recordings\" folder\n",
        "folder_path = '/content/drive/MyDrive/mmd /recordings'\n",
        "\n",
        "# Define the pattern for file names to delete\n",
        "pattern = re.compile(r'^english(111|11[2-9]|1[2-9][0-9]|[2-4][0-9][0-9]|5[0-7][0-9])')\n",
        "\n",
        "# Get a list of files in the folder\n",
        "files_in_folder = os.listdir(folder_path)\n",
        "\n",
        "# Delete files matching the pattern\n",
        "for file_name in files_in_folder:\n",
        "    if pattern.match(file_name):\n",
        "        file_path = os.path.join(folder_path, file_name)\n",
        "        os.remove(file_path)\n",
        "        print(f\"Deleted: {file_name}\")\n",
        "'''"
      ],
      "metadata": {
        "colab": {
          "base_uri": "https://localhost:8080/",
          "height": 122
        },
        "id": "nvsOp5_eXqjO",
        "outputId": "42a6030a-1231-48c7-d75c-097d574f3287"
      },
      "execution_count": null,
      "outputs": [
        {
          "output_type": "execute_result",
          "data": {
            "text/plain": [
              "'import os\\nimport re\\n\\n# Replace \\'/path/to/your/recordings/folder\\' with the actual path to your \"recordings\" folder\\nfolder_path = \\'/content/drive/MyDrive/mmd /recordings\\'\\n\\n# Define the pattern for file names to delete\\npattern = re.compile(r\\'^english(111|11[2-9]|1[2-9][0-9]|[2-4][0-9][0-9]|5[0-7][0-9])\\')\\n\\n# Get a list of files in the folder\\nfiles_in_folder = os.listdir(folder_path)\\n\\n# Delete files matching the pattern\\nfor file_name in files_in_folder:\\n    if pattern.match(file_name):\\n        file_path = os.path.join(folder_path, file_name)\\n        os.remove(file_path)\\n        print(f\"Deleted: {file_name}\")\\n'"
            ],
            "application/vnd.google.colaboratory.intrinsic+json": {
              "type": "string"
            }
          },
          "metadata": {},
          "execution_count": 37
        }
      ]
    },
    {
      "cell_type": "code",
      "source": [
        "'''import os\n",
        "import re\n",
        "\n",
        "folder_path = '/content/drive/MyDrive/mmd /english_train'\n",
        "\n",
        "# Define the pattern for file names to delete\n",
        "pattern = re.compile(r'^english(101|10[2-9]|1[1-9][0-9]|[2-4][0-9][0-9]|5[0-7][0-9])')\n",
        "\n",
        "# Get a list of files in the folder\n",
        "files_in_folder = os.listdir(folder_path)\n",
        "\n",
        "# Delete files matching the pattern\n",
        "for file_name in files_in_folder:\n",
        "    if pattern.match(file_name):\n",
        "        file_path = os.path.join(folder_path, file_name)\n",
        "        os.remove(file_path)\n",
        "        print(f\"Deleted: {file_name}\")\n",
        "'''"
      ],
      "metadata": {
        "colab": {
          "base_uri": "https://localhost:8080/",
          "height": 122
        },
        "id": "dmnwEdV6lWUf",
        "outputId": "f0e18d48-dadc-494e-f4d3-cc7f69008470"
      },
      "execution_count": null,
      "outputs": [
        {
          "output_type": "execute_result",
          "data": {
            "text/plain": [
              "'import os\\nimport re\\n\\n# Replace \\'/path/to/your/recordings/folder\\' with the actual path to your \"recordings\" folder\\nfolder_path = \\'/content/drive/MyDrive/mmd /english_train\\'\\n\\n# Define the pattern for file names to delete\\npattern = re.compile(r\\'^english(101|10[2-9]|1[1-9][0-9]|[2-4][0-9][0-9]|5[0-7][0-9])\\')\\n\\n# Get a list of files in the folder\\nfiles_in_folder = os.listdir(folder_path)\\n\\n# Delete files matching the pattern\\nfor file_name in files_in_folder:\\n    if pattern.match(file_name):\\n        file_path = os.path.join(folder_path, file_name)\\n        os.remove(file_path)\\n        print(f\"Deleted: {file_name}\")\\n'"
            ],
            "application/vnd.google.colaboratory.intrinsic+json": {
              "type": "string"
            }
          },
          "metadata": {},
          "execution_count": 38
        }
      ]
    },
    {
      "cell_type": "code",
      "source": [
        "'''import os\n",
        "import re\n",
        "\n",
        "# Replace '/path/to/your/recordings/folder' with the actual path to your \"recordings\" folder\n",
        "folder_path = '/content/drive/MyDrive/mmd /recordings'\n",
        "\n",
        "# Define the pattern for file names to delete\n",
        "pattern = re.compile(r'^spanish(121|12[2-9]|1[3-5][0-9]|162)')\n",
        "\n",
        "# Get a list of files in the folder\n",
        "files_in_folder = os.listdir(folder_path)\n",
        "\n",
        "# Delete files matching the pattern\n",
        "for file_name in files_in_folder:\n",
        "    if pattern.match(file_name):\n",
        "        file_path = os.path.join(folder_path, file_name)\n",
        "        os.remove(file_path)\n",
        "        print(f\"Deleted: {file_name}\")\n",
        "'''"
      ],
      "metadata": {
        "colab": {
          "base_uri": "https://localhost:8080/",
          "height": 122
        },
        "id": "8Z6rs8lggHt5",
        "outputId": "75adc61c-6550-4708-f7a2-affe3713ae76"
      },
      "execution_count": null,
      "outputs": [
        {
          "output_type": "execute_result",
          "data": {
            "text/plain": [
              "'import os\\nimport re\\n\\n# Replace \\'/path/to/your/recordings/folder\\' with the actual path to your \"recordings\" folder\\nfolder_path = \\'/content/drive/MyDrive/mmd /recordings\\'\\n\\n# Define the pattern for file names to delete\\npattern = re.compile(r\\'^spanish(121|12[2-9]|1[3-5][0-9]|162)\\')\\n\\n# Get a list of files in the folder\\nfiles_in_folder = os.listdir(folder_path)\\n\\n# Delete files matching the pattern\\nfor file_name in files_in_folder:\\n    if pattern.match(file_name):\\n        file_path = os.path.join(folder_path, file_name)\\n        os.remove(file_path)\\n        print(f\"Deleted: {file_name}\")\\n'"
            ],
            "application/vnd.google.colaboratory.intrinsic+json": {
              "type": "string"
            }
          },
          "metadata": {},
          "execution_count": 39
        }
      ]
    },
    {
      "cell_type": "markdown",
      "source": [
        "##**3 versions of augmentation**"
      ],
      "metadata": {
        "id": "tmL4pz8tuw1L"
      }
    },
    {
      "cell_type": "code",
      "source": [
        "pip install pydub"
      ],
      "metadata": {
        "colab": {
          "base_uri": "https://localhost:8080/"
        },
        "id": "yRAV2lQk1Usa",
        "outputId": "9a3fdc33-7886-4147-a219-5343cae0496a"
      },
      "execution_count": null,
      "outputs": [
        {
          "output_type": "stream",
          "name": "stdout",
          "text": [
            "Collecting pydub\n",
            "  Downloading pydub-0.25.1-py2.py3-none-any.whl (32 kB)\n",
            "Installing collected packages: pydub\n",
            "Successfully installed pydub-0.25.1\n"
          ]
        }
      ]
    },
    {
      "cell_type": "code",
      "source": [
        "pip install pyrubberband'''"
      ],
      "metadata": {
        "colab": {
          "base_uri": "https://localhost:8080/"
        },
        "id": "SatUTmGb3mvt",
        "outputId": "26e95721-baae-4653-ab4c-7ed1b0947309"
      },
      "execution_count": null,
      "outputs": [
        {
          "output_type": "stream",
          "name": "stdout",
          "text": [
            "/bin/bash: -c: line 1: unexpected EOF while looking for matching `''\n",
            "/bin/bash: -c: line 2: syntax error: unexpected end of file\n"
          ]
        }
      ]
    },
    {
      "cell_type": "code",
      "source": [
        "!apt-get install -y rubberband-cli\n",
        "!pip install pyrubberband\n"
      ],
      "metadata": {
        "colab": {
          "base_uri": "https://localhost:8080/"
        },
        "id": "S-XzemPv4V9g",
        "outputId": "5416f449-b3bc-42e0-f024-b7c56e13f9a9"
      },
      "execution_count": null,
      "outputs": [
        {
          "output_type": "stream",
          "name": "stdout",
          "text": [
            "Reading package lists... Done\n",
            "Building dependency tree... Done\n",
            "Reading state information... Done\n",
            "The following NEW packages will be installed:\n",
            "  rubberband-cli\n",
            "0 upgraded, 1 newly installed, 0 to remove and 24 not upgraded.\n",
            "Need to get 87.5 kB of archives.\n",
            "After this operation, 223 kB of additional disk space will be used.\n",
            "Get:1 http://archive.ubuntu.com/ubuntu jammy/universe amd64 rubberband-cli amd64 2.0.0-2 [87.5 kB]\n",
            "Fetched 87.5 kB in 1s (74.0 kB/s)\n",
            "Selecting previously unselected package rubberband-cli.\n",
            "(Reading database ... 121658 files and directories currently installed.)\n",
            "Preparing to unpack .../rubberband-cli_2.0.0-2_amd64.deb ...\n",
            "Unpacking rubberband-cli (2.0.0-2) ...\n",
            "Setting up rubberband-cli (2.0.0-2) ...\n",
            "Processing triggers for man-db (2.10.2-1) ...\n",
            "Collecting pyrubberband\n",
            "  Downloading pyrubberband-0.3.0.tar.gz (4.1 kB)\n",
            "  Preparing metadata (setup.py) ... \u001b[?25l\u001b[?25hdone\n",
            "Requirement already satisfied: six in /usr/local/lib/python3.10/dist-packages (from pyrubberband) (1.16.0)\n",
            "Collecting pysoundfile>=0.8.0 (from pyrubberband)\n",
            "  Downloading PySoundFile-0.9.0.post1-py2.py3-none-any.whl (24 kB)\n",
            "Requirement already satisfied: cffi>=0.6 in /usr/local/lib/python3.10/dist-packages (from pysoundfile>=0.8.0->pyrubberband) (1.16.0)\n",
            "Requirement already satisfied: pycparser in /usr/local/lib/python3.10/dist-packages (from cffi>=0.6->pysoundfile>=0.8.0->pyrubberband) (2.21)\n",
            "Building wheels for collected packages: pyrubberband\n",
            "  Building wheel for pyrubberband (setup.py) ... \u001b[?25l\u001b[?25hdone\n",
            "  Created wheel for pyrubberband: filename=pyrubberband-0.3.0-py3-none-any.whl size=4264 sha256=39abebc26026bccc00e63a7c7860abc1c7b39bc5b66acdf3c31cb5c816cb991d\n",
            "  Stored in directory: /root/.cache/pip/wheels/b8/2d/f0/bb68fbfe67a42c858a79412321d28589218cbfe114c48ce664\n",
            "Successfully built pyrubberband\n",
            "Installing collected packages: pysoundfile, pyrubberband\n",
            "Successfully installed pyrubberband-0.3.0 pysoundfile-0.9.0.post1\n"
          ]
        }
      ]
    },
    {
      "cell_type": "code",
      "source": [
        "'''!pip install librosa soundfile\n",
        "!apt-get install ffmpeg\n",
        "'''"
      ],
      "metadata": {
        "colab": {
          "base_uri": "https://localhost:8080/"
        },
        "id": "4N5afnfc599b",
        "outputId": "55d7a3cb-bbca-467e-fe8b-d0429cfde104"
      },
      "execution_count": null,
      "outputs": [
        {
          "output_type": "stream",
          "name": "stdout",
          "text": [
            "Requirement already satisfied: librosa in /usr/local/lib/python3.10/dist-packages (0.10.1)\n",
            "Requirement already satisfied: soundfile in /usr/local/lib/python3.10/dist-packages (0.12.1)\n",
            "Requirement already satisfied: audioread>=2.1.9 in /usr/local/lib/python3.10/dist-packages (from librosa) (3.0.1)\n",
            "Requirement already satisfied: numpy!=1.22.0,!=1.22.1,!=1.22.2,>=1.20.3 in /usr/local/lib/python3.10/dist-packages (from librosa) (1.23.5)\n",
            "Requirement already satisfied: scipy>=1.2.0 in /usr/local/lib/python3.10/dist-packages (from librosa) (1.11.4)\n",
            "Requirement already satisfied: scikit-learn>=0.20.0 in /usr/local/lib/python3.10/dist-packages (from librosa) (1.2.2)\n",
            "Requirement already satisfied: joblib>=0.14 in /usr/local/lib/python3.10/dist-packages (from librosa) (1.3.2)\n",
            "Requirement already satisfied: decorator>=4.3.0 in /usr/local/lib/python3.10/dist-packages (from librosa) (4.4.2)\n",
            "Requirement already satisfied: numba>=0.51.0 in /usr/local/lib/python3.10/dist-packages (from librosa) (0.58.1)\n",
            "Requirement already satisfied: pooch>=1.0 in /usr/local/lib/python3.10/dist-packages (from librosa) (1.8.0)\n",
            "Requirement already satisfied: soxr>=0.3.2 in /usr/local/lib/python3.10/dist-packages (from librosa) (0.3.7)\n",
            "Requirement already satisfied: typing-extensions>=4.1.1 in /usr/local/lib/python3.10/dist-packages (from librosa) (4.5.0)\n",
            "Requirement already satisfied: lazy-loader>=0.1 in /usr/local/lib/python3.10/dist-packages (from librosa) (0.3)\n",
            "Requirement already satisfied: msgpack>=1.0 in /usr/local/lib/python3.10/dist-packages (from librosa) (1.0.7)\n",
            "Requirement already satisfied: cffi>=1.0 in /usr/local/lib/python3.10/dist-packages (from soundfile) (1.16.0)\n",
            "Requirement already satisfied: pycparser in /usr/local/lib/python3.10/dist-packages (from cffi>=1.0->soundfile) (2.21)\n",
            "Requirement already satisfied: llvmlite<0.42,>=0.41.0dev0 in /usr/local/lib/python3.10/dist-packages (from numba>=0.51.0->librosa) (0.41.1)\n",
            "Requirement already satisfied: platformdirs>=2.5.0 in /usr/local/lib/python3.10/dist-packages (from pooch>=1.0->librosa) (4.0.0)\n",
            "Requirement already satisfied: packaging>=20.0 in /usr/local/lib/python3.10/dist-packages (from pooch>=1.0->librosa) (23.2)\n",
            "Requirement already satisfied: requests>=2.19.0 in /usr/local/lib/python3.10/dist-packages (from pooch>=1.0->librosa) (2.31.0)\n",
            "Requirement already satisfied: threadpoolctl>=2.0.0 in /usr/local/lib/python3.10/dist-packages (from scikit-learn>=0.20.0->librosa) (3.2.0)\n",
            "Requirement already satisfied: charset-normalizer<4,>=2 in /usr/local/lib/python3.10/dist-packages (from requests>=2.19.0->pooch>=1.0->librosa) (3.3.2)\n",
            "Requirement already satisfied: idna<4,>=2.5 in /usr/local/lib/python3.10/dist-packages (from requests>=2.19.0->pooch>=1.0->librosa) (3.6)\n",
            "Requirement already satisfied: urllib3<3,>=1.21.1 in /usr/local/lib/python3.10/dist-packages (from requests>=2.19.0->pooch>=1.0->librosa) (2.0.7)\n",
            "Requirement already satisfied: certifi>=2017.4.17 in /usr/local/lib/python3.10/dist-packages (from requests>=2.19.0->pooch>=1.0->librosa) (2023.11.17)\n",
            "Reading package lists... Done\n",
            "Building dependency tree... Done\n",
            "Reading state information... Done\n",
            "ffmpeg is already the newest version (7:4.4.2-0ubuntu0.22.04.1).\n",
            "0 upgraded, 0 newly installed, 0 to remove and 15 not upgraded.\n"
          ]
        }
      ]
    },
    {
      "cell_type": "code",
      "source": [
        "pip install python-magic\n"
      ],
      "metadata": {
        "colab": {
          "base_uri": "https://localhost:8080/"
        },
        "id": "_00Q9RYJ9_xN",
        "outputId": "5e69be9f-b13b-4c7b-f836-ecd02a3530c8"
      },
      "execution_count": null,
      "outputs": [
        {
          "output_type": "stream",
          "name": "stdout",
          "text": [
            "Collecting python-magic\n",
            "  Downloading python_magic-0.4.27-py2.py3-none-any.whl (13 kB)\n",
            "Installing collected packages: python-magic\n",
            "Successfully installed python-magic-0.4.27\n"
          ]
        }
      ]
    },
    {
      "cell_type": "code",
      "source": [
        "pip install soundfile\n"
      ],
      "metadata": {
        "colab": {
          "base_uri": "https://localhost:8080/"
        },
        "id": "ntbmMxsaXvJ5",
        "outputId": "b6c265f0-76d2-49c8-afee-ec160346e0ca"
      },
      "execution_count": null,
      "outputs": [
        {
          "output_type": "stream",
          "name": "stdout",
          "text": [
            "Requirement already satisfied: soundfile in /usr/local/lib/python3.10/dist-packages (0.12.1)\n",
            "Requirement already satisfied: cffi>=1.0 in /usr/local/lib/python3.10/dist-packages (from soundfile) (1.16.0)\n",
            "Requirement already satisfied: pycparser in /usr/local/lib/python3.10/dist-packages (from cffi>=1.0->soundfile) (2.21)\n"
          ]
        }
      ]
    },
    {
      "cell_type": "markdown",
      "source": [
        "# **Pitch shift augmentation**"
      ],
      "metadata": {
        "id": "VEQAFJLkJVo4"
      }
    },
    {
      "cell_type": "code",
      "source": [
        "import librosa\n",
        "import librosa.display\n",
        "import matplotlib.pyplot as plt\n",
        "import numpy as np\n",
        "import pyrubberband\n",
        "from pydub import AudioSegment\n",
        "import soundfile as sf\n",
        "\n",
        "def pitch_shift_audio(file_path, semitone_shift):\n",
        "    audio = AudioSegment.from_file(file_path, format=\"mp3\")\n",
        "    y = np.array(audio.get_array_of_samples(), dtype=np.float32) / 32767.0\n",
        "    sr = audio.frame_rate\n",
        "\n",
        "    y_pitch_shifted = pyrubberband.pitch_shift(y, sr, semitone_shift)\n",
        "\n",
        "    return y, y_pitch_shifted, sr\n",
        "\n",
        "def plot_audio_signals(y, y_pitch_shifted, sr):\n",
        "    plt.figure(figsize=(8, 4))\n",
        "\n",
        "    plt.subplot(2, 1, 1)\n",
        "    librosa.display.waveshow(y.astype(np.float32), sr=sr)\n",
        "    plt.title('Original Audio')\n",
        "\n",
        "    plt.subplot(2, 1, 2)\n",
        "    librosa.display.waveshow(y_pitch_shifted.astype(np.float32), sr=sr)\n",
        "    plt.title('Pitch-Shifted Audio')\n",
        "\n",
        "    plt.tight_layout()\n",
        "    plt.show()\n",
        "\n",
        "\n",
        "def play_audio(y_pitch_shifted, sr):\n",
        "    audio = Audio(data=y_pitch_shifted, rate=sr)\n",
        "    display(audio)\n",
        "\n",
        "file_path = '/content/drive/MyDrive/mmd /recordings/arabic1.mp3'\n",
        "semitone_shift = 2\n",
        "\n",
        "original_audio, augmented_audio, sample_rate = pitch_shift_audio(file_path, semitone_shift)\n",
        "plot_audio_signals(original_audio, augmented_audio, sample_rate)\n",
        "audio_file_path = play_audio(augmented_audio, sample_rate)\n"
      ],
      "metadata": {
        "colab": {
          "base_uri": "https://localhost:8080/",
          "height": 721
        },
        "id": "HA3ht9REXbXi",
        "outputId": "bd002c5e-7e47-41b2-93fa-03014fc6e22a"
      },
      "execution_count": null,
      "outputs": [
        {
          "output_type": "display_data",
          "data": {
            "text/plain": [
              "<Figure size 800x400 with 2 Axes>"
            ],
            "image/png": "[encoded data removed]"
          },
          "metadata": {}
        },
        {
          "output_type": "error",
          "ename": "NameError",
          "evalue": "ignored",
          "traceback": [
            "\u001b[0;31m---------------------------------------------------------------------------\u001b[0m",
            "\u001b[0;31mNameError\u001b[0m                                 Traceback (most recent call last)",
            "\u001b[0;32m<ipython-input-16-6181539cdff3>\u001b[0m in \u001b[0;36m<cell line: 50>\u001b[0;34m()\u001b[0m\n\u001b[1;32m     48\u001b[0m \u001b[0moriginal_audio\u001b[0m\u001b[0;34m,\u001b[0m \u001b[0maugmented_audio\u001b[0m\u001b[0;34m,\u001b[0m \u001b[0msample_rate\u001b[0m \u001b[0;34m=\u001b[0m \u001b[0mpitch_shift_audio\u001b[0m\u001b[0;34m(\u001b[0m\u001b[0mfile_path\u001b[0m\u001b[0;34m,\u001b[0m \u001b[0msemitone_shift\u001b[0m\u001b[0;34m)\u001b[0m\u001b[0;34m\u001b[0m\u001b[0;34m\u001b[0m\u001b[0m\n\u001b[1;32m     49\u001b[0m \u001b[0mplot_audio_signals\u001b[0m\u001b[0;34m(\u001b[0m\u001b[0moriginal_audio\u001b[0m\u001b[0;34m,\u001b[0m \u001b[0maugmented_audio\u001b[0m\u001b[0;34m,\u001b[0m \u001b[0msample_rate\u001b[0m\u001b[0;34m)\u001b[0m\u001b[0;34m\u001b[0m\u001b[0;34m\u001b[0m\u001b[0m\n\u001b[0;32m---> 50\u001b[0;31m \u001b[0maudio_file_path\u001b[0m \u001b[0;34m=\u001b[0m \u001b[0mplay_audio\u001b[0m\u001b[0;34m(\u001b[0m\u001b[0maugmented_audio\u001b[0m\u001b[0;34m,\u001b[0m \u001b[0msample_rate\u001b[0m\u001b[0;34m)\u001b[0m\u001b[0;34m\u001b[0m\u001b[0;34m\u001b[0m\u001b[0m\n\u001b[0m",
            "\u001b[0;32m<ipython-input-16-6181539cdff3>\u001b[0m in \u001b[0;36mplay_audio\u001b[0;34m(y_pitch_shifted, sr)\u001b[0m\n\u001b[1;32m     39\u001b[0m \u001b[0;31m# Function to play the augmented audio\u001b[0m\u001b[0;34m\u001b[0m\u001b[0;34m\u001b[0m\u001b[0m\n\u001b[1;32m     40\u001b[0m \u001b[0;32mdef\u001b[0m \u001b[0mplay_audio\u001b[0m\u001b[0;34m(\u001b[0m\u001b[0my_pitch_shifted\u001b[0m\u001b[0;34m,\u001b[0m \u001b[0msr\u001b[0m\u001b[0;34m)\u001b[0m\u001b[0;34m:\u001b[0m\u001b[0;34m\u001b[0m\u001b[0;34m\u001b[0m\u001b[0m\n\u001b[0;32m---> 41\u001b[0;31m     \u001b[0maudio\u001b[0m \u001b[0;34m=\u001b[0m \u001b[0mAudio\u001b[0m\u001b[0;34m(\u001b[0m\u001b[0mdata\u001b[0m\u001b[0;34m=\u001b[0m\u001b[0my_pitch_shifted\u001b[0m\u001b[0;34m,\u001b[0m \u001b[0mrate\u001b[0m\u001b[0;34m=\u001b[0m\u001b[0msr\u001b[0m\u001b[0;34m)\u001b[0m\u001b[0;34m\u001b[0m\u001b[0;34m\u001b[0m\u001b[0m\n\u001b[0m\u001b[1;32m     42\u001b[0m     \u001b[0mdisplay\u001b[0m\u001b[0;34m(\u001b[0m\u001b[0maudio\u001b[0m\u001b[0;34m)\u001b[0m\u001b[0;34m\u001b[0m\u001b[0;34m\u001b[0m\u001b[0m\n\u001b[1;32m     43\u001b[0m \u001b[0;34m\u001b[0m\u001b[0m\n",
            "\u001b[0;31mNameError\u001b[0m: name 'Audio' is not defined"
          ]
        }
      ]
    },
    {
      "cell_type": "code",
      "source": [
        "'''import os\n",
        "import pyrubberband\n",
        "from pydub import AudioSegment\n",
        "from IPython.display import Audio, display\n",
        "\n",
        "# Function to load and pitch shift an audio file using pyrubberband\n",
        "def pitch_shift_audio(file_path, semitone_shift, output_path):\n",
        "    # Load the audio file\n",
        "    audio = AudioSegment.from_file(file_path, format=\"mp3\")\n",
        "    y = np.array(audio.get_array_of_samples(), dtype=np.float32) / 32767.0  # Normalize to floating-point format\n",
        "    sr = audio.frame_rate\n",
        "\n",
        "    # Pitch shift the audio using pyrubberband\n",
        "    augmented_audio = audio._spawn(audio.raw_data, overrides={\n",
        "        \"frame_rate\": int(audio.frame_rate * (2 ** (semitone_shift / 12.0)))\n",
        "    })\n",
        "\n",
        "\n",
        "    output= os.path.join('/content/drive/MyDrive/mmd /recording_augmented', output_path)\n",
        "    output= output.replace('.wav', '.mp3')\n",
        "    augmented_audio.export(output, format=\"mp3\")\n",
        "\n",
        "    return y,augmented_audio, sr\n",
        "\n",
        "def plot_audio_signals(y, y_pitch_shifted, sr):\n",
        "    plt.figure(figsize=(12, 8))\n",
        "\n",
        "    plt.subplot(2, 1, 1)\n",
        "    librosa.display.waveshow(y.astype(np.float32), sr=sr)\n",
        "    plt.title('Original Audio')\n",
        "\n",
        "    plt.subplot(2, 1, 2)\n",
        "    librosa.display.waveshow(np.array(y_pitch_shifted.get_array_of_samples(), dtype=np.float32), sr=sr)\n",
        "    plt.title('Pitch-Shifted Audio')\n",
        "\n",
        "    plt.tight_layout()\n",
        "    plt.show()\n",
        "valid_languages=['italian', 'polish', 'german', 'turkish', 'dutch', 'portuguese', 'russian', 'korean', 'mandarin', 'french']\n",
        "file_path='/content/drive/MyDrive/mmd /recordings'\n",
        "for filename in os.listdir('/content/drive/MyDrive/mmd /recordings'):\n",
        "  for i in valid_languages:\n",
        "    if filename.lower().startswith(i):\n",
        "      file_path='/content/drive/MyDrive/mmd /recordings'\n",
        "      file_path+=('/'+filename)\n",
        "      x=filename.replace('.mp3', '')\n",
        "      output_path=(x+'_pitch_2_augmented.mp3')\n",
        "    #file_path = '/content/drive/MyDrive/mmd /recordings/arabic1.mp3'\n",
        "    #output_path = 'arabic1_pitch_augmented.mp3'\n",
        "      semitone_shift = -2\n",
        "      original_audio, augmented_audio, sample_rate = pitch_shift_audio(file_path, semitone_shift, output_path)\n",
        "      #plot_audio_signals(original_audio, augmented_audio, sample_rate)\n",
        "      print(\"saved\"+filename)\n",
        "'''"
      ],
      "metadata": {
        "id": "jD0bx7KymsPs"
      },
      "execution_count": null,
      "outputs": []
    },
    {
      "cell_type": "code",
      "source": [
        "'''import os\n",
        "import pyrubberband\n",
        "from pydub import AudioSegment\n",
        "from IPython.display import Audio, display\n",
        "\n",
        "# Function to load and pitch shift an audio file using pyrubberband\n",
        "def pitch_shift_audio(file_path, semitone_shift, output_path):\n",
        "    # Load the audio file\n",
        "    audio = AudioSegment.from_file(file_path, format=\"mp3\")\n",
        "    y = np.array(audio.get_array_of_samples(), dtype=np.float32) / 32767.0  # Normalize to floating-point format\n",
        "    sr = audio.frame_rate\n",
        "\n",
        "    # Pitch shift the audio using pyrubberband\n",
        "    augmented_audio = audio._spawn(audio.raw_data, overrides={\n",
        "        \"frame_rate\": int(audio.frame_rate * (2 ** (semitone_shift / 12.0)))\n",
        "    })\n",
        "\n",
        "\n",
        "    output= os.path.join('/content/drive/MyDrive/mmd /recording_augmented', output_path)\n",
        "    output= output.replace('.wav', '.mp3')\n",
        "    augmented_audio.export(output, format=\"mp3\")\n",
        "\n",
        "    return y,augmented_audio, sr\n",
        "\n",
        "def plot_audio_signals(y, y_pitch_shifted, sr):\n",
        "    plt.figure(figsize=(12, 8))\n",
        "\n",
        "    plt.subplot(2, 1, 1)\n",
        "    librosa.display.waveshow(y.astype(np.float32), sr=sr)\n",
        "    plt.title('Original Audio')\n",
        "\n",
        "    plt.subplot(2, 1, 2)\n",
        "    librosa.display.waveshow(np.array(y_pitch_shifted.get_array_of_samples(), dtype=np.float32), sr=sr)\n",
        "    plt.title('Pitch-Shifted Audio')\n",
        "\n",
        "    plt.tight_layout()\n",
        "    plt.show()\n",
        "valid_languages=['italian', 'polish', 'german', 'turkish', 'dutch', 'portuguese', 'russian', 'korean', 'mandarin', 'french']\n",
        "file_path='/content/drive/MyDrive/mmd /recordings'\n",
        "for filename in os.listdir('/content/drive/MyDrive/mmd /recordings'):\n",
        "  for i in valid_languages:\n",
        "    if filename.lower().startswith(i):\n",
        "      file_path='/content/drive/MyDrive/mmd /recordings'\n",
        "      file_path+=('/'+filename)\n",
        "      x=filename.replace('.mp3', '')\n",
        "      output_path=(x+'_pitch_2_augmented.mp3')\n",
        "    #file_path = '/content/drive/MyDrive/mmd /recordings/arabic1.mp3'\n",
        "    #output_path = 'arabic1_pitch_augmented.mp3'\n",
        "      semitone_shift =\n",
        "      original_audio, augmented_audio, sample_rate = pitch_shift_audio(file_path, semitone_shift, output_path)\n",
        "      #plot_audio_signals(original_audio, augmented_audio, sample_rate)\n",
        "      print(\"saved\"+filename)\n",
        "'''"
      ],
      "metadata": {
        "id": "RJiNkVJ_TfbO"
      },
      "execution_count": null,
      "outputs": []
    },
    {
      "cell_type": "markdown",
      "source": [
        "## ***Speedup Augmentation***"
      ],
      "metadata": {
        "id": "UCD0eiFfJbcc"
      }
    },
    {
      "cell_type": "code",
      "source": [
        "import os\n",
        "import pyrubberband\n",
        "from pydub import AudioSegment\n",
        "from IPython.display import Audio, display\n",
        "import matplotlib.pyplot as plt\n",
        "# Function to load and pitch shift an audio file using pyrubberband\n",
        "def pitch_shift_audio(file_path, speedup_factor, output_path):\n",
        "    # Load the audio file\n",
        "    audio = AudioSegment.from_file(file_path, format=\"mp3\")\n",
        "    augmented_audio = audio.speedup(playback_speed=speedup_factor)\n",
        "    augmented_audio = np.array(augmented_audio.get_array_of_samples(), dtype=np.float32) / 32767.0\n",
        "    '''  output= os.path.join('/content/drive/MyDrive/mmd /recording_augmented', output_path)\n",
        "    output= output.replace('.wav', '.mp3')\n",
        "    augmented_audio.export(output, format=\"mp3\")'''\n",
        "\n",
        "    return audio,augmented_audio, audio.frame_rate\n",
        "valid_languages=['italian', 'polish', 'german', 'turkish', 'dutch', 'portuguese', 'russian', 'korean', 'mandarin', 'french']\n",
        "#file_path='/content/drive/MyDrive/mmd /recordings''''\n",
        "#for filename in os.listdir('/content/drive/MyDrive/mmd /recordings'):\n",
        "'''for i in valid_languages:\n",
        "    if filename.lower().startswith(i):\n",
        "      file_path='/content/drive/MyDrive/mmd /recordings'\n",
        "      file_path+=('/'+filename)\n",
        "      x=filename.replace('.mp3', '')\n",
        "      output_path=(x+'_speedup_augmented.mp3')'''\n",
        "file_path = '/content/drive/MyDrive/mmd /recordings/arabic1.mp3'\n",
        "output_path = 'arabic1_pitch_augmented.mp3'\n",
        "speedup_factor = 1.5\n",
        "original_audio,audio, sample_rate = pitch_shift_audio(file_path, speedup_factor, output_path)\n",
        "      #print(\"saved\"+filename)\n",
        "      #display(augmented_audio)\n",
        "samples = audio\n",
        "# Check if audio is stereo and take one channel if true\n",
        "if samples.ndim == 2:\n",
        "    samples = samples[:, 0]\n",
        "# Get the sample rate\n",
        "sample_rate = int(sample_rate)\n",
        "# Create the time axis for the waveform\n",
        "time = np.linspace(0, len(samples) / sample_rate, num=len(samples))\n",
        "\n",
        "# Plotting the waveform\n",
        "plt.figure(figsize=(10, 2))\n",
        "plt.plot(time, samples)\n",
        "plt.title('Audio Waveform')\n",
        "plt.xlabel('Time [s]')\n",
        "plt.ylabel('Amplitude')\n",
        "plt.tight_layout()\n",
        "plt.show()"
      ],
      "metadata": {
        "id": "lAy7acmNNXAf",
        "colab": {
          "base_uri": "https://localhost:8080/",
          "height": 182
        },
        "outputId": "35c452df-b97d-4a84-a456-028549c8cb98"
      },
      "execution_count": null,
      "outputs": [
        {
          "output_type": "display_data",
          "data": {
            "text/plain": [
              "<Figure size 1000x200 with 1 Axes>"
            ],
            "image/png": "[encoded data removed]"
          },
          "metadata": {}
        }
      ]
    },
    {
      "cell_type": "code",
      "source": [],
      "metadata": {
        "id": "7s4pC8TUp_JP"
      },
      "execution_count": null,
      "outputs": []
    }
  ]
}